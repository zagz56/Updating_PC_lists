{
  "cells": [
    {
      "cell_type": "code",
      "source": [
        "!pip install xlsxwriter"
      ],
      "metadata": {
        "id": "nW-kJdJCC1cA",
        "colab": {
          "base_uri": "https://localhost:8080/"
        },
        "outputId": "f38d2165-74af-4670-a517-0be9c121ce83"
      },
      "execution_count": null,
      "outputs": [
        {
          "output_type": "stream",
          "name": "stdout",
          "text": [
            "Collecting xlsxwriter\n",
            "  Downloading XlsxWriter-3.1.2-py3-none-any.whl (153 kB)\n",
            "\u001b[2K     \u001b[90m━━━━━━━━━━━━━━━━━━━━━━━━━━━━━━━━━━━━━━━\u001b[0m \u001b[32m153.0/153.0 kB\u001b[0m \u001b[31m1.9 MB/s\u001b[0m eta \u001b[36m0:00:00\u001b[0m\n",
            "\u001b[?25hInstalling collected packages: xlsxwriter\n",
            "Successfully installed xlsxwriter-3.1.2\n"
          ]
        }
      ]
    },
    {
      "cell_type": "code",
      "source": [
        "import pandas as pd\n",
        "\n",
        "# Открываем файл Excel\n",
        "file1 = pd.ExcelFile('/content/Rating_lists_date.xlsx')\n",
        "\n",
        "# Загружаем данные из листа в DataFrame\n",
        "df = file1.parse()\n",
        "\n",
        "# Удаляем 4, 7 и 13 столбцы\n",
        "columns_to_delete = [3, 6, 12]\n",
        "df = df.drop(df.columns[columns_to_delete], axis=1)\n",
        "\n",
        "# Словарь кодовых слов и соответствующих листов\n",
        "code_words = {\n",
        "    'Автоматизация и робототехнические системы /направления 15.03.04 и 15.03.06/ бакалавриат, бюджет, очная форма (Бюджет, Очная)': 'Меха + АТПП',\n",
        "    'Электроника и автоматика физических установок специалитет, бюджет, очная форма (Бюджет, Очная)': 'ЭиА',\n",
        "    'Приборостроение бакалавриат, бюджет, очная форма (Бюджет, Очная)': 'Приборка',\n",
        "    'Ядерная физика и атомная энергетика /направления 14.03.01 и 14.03.02/, бакалавриат, бюджет, очная форма (Бюджет, Очная)': 'ЯФиТ',\n",
        "    'Системный анализ и управление бакалавриат,бюджет, очная форма (Бюджет, Очная)': 'СА'\n",
        "}\n",
        "\n",
        "# Создаем новый Excel-файл\n",
        "writer = pd.ExcelWriter('/content/Debugging_file.xlsx', engine='openpyxl')\n",
        "\n",
        "# Проходимся по каждому кодовому слову\n",
        "for keyword, sheet_name in code_words.items():\n",
        "    start_row = None\n",
        "    end_row = None\n",
        "\n",
        "    # Ищем кодовое слово в DataFrame и запоминаем диапазон строк\n",
        "    for index, row in df.iterrows():\n",
        "        if keyword in row.values:\n",
        "            start_row = index\n",
        "            break\n",
        "\n",
        "    if start_row is not None:\n",
        "        for index, row in df.iloc[start_row:].iterrows():\n",
        "            if pd.isnull(row.values).all():\n",
        "                end_row = index\n",
        "                break\n",
        "\n",
        "    # Создаем новый DataFrame с диапазоном строк\n",
        "    new_df = df.iloc[start_row:end_row]\n",
        "\n",
        "    # Сохраняем DataFrame на соответствующем листе\n",
        "    new_df.to_excel(writer, sheet_name=sheet_name, index=False)\n",
        "\n",
        "# Сохраняем и закрываем файл\n",
        "writer.save()\n",
        "\n",
        "#############################################################################################################################################################################3\n",
        "\n",
        "# Загрузка данных из файлов\n",
        "file1 = pd.ExcelFile('/content/Main_file.xlsx')\n",
        "file2 = pd.ExcelFile('/content/Debugging_file.xlsx')\n",
        "\n",
        "# Получение списка названий листов\n",
        "sheet_names = file1.sheet_names\n",
        "\n",
        "# Создание объекта pd.ExcelWriter для записи изменений в новый файл\n",
        "writer = pd.ExcelWriter('/content/New_Main_file.xlsx', engine='xlsxwriter')\n",
        "\n",
        "# Итерация по листам\n",
        "for sheet_name in sheet_names:\n",
        "    # Загрузка данных для текущего листа из обоих файлов\n",
        "    df1 = file1.parse(sheet_name)\n",
        "    df2 = file2.parse(sheet_name)\n",
        "\n",
        "    # Создание пустого списка для хранения добавленных данных\n",
        "    additional_data = []\n",
        "\n",
        "    # Перебор строк во втором файле\n",
        "    for index2, row2 in df2.iterrows():\n",
        "        number_id_2 = row2[2]  # Индекс третьего столбца (нумерация начинается с 0)\n",
        "\n",
        "        # Перебор строк в первом файле\n",
        "        for index1, row1 in df1.iterrows():\n",
        "            number_id_1 = row1[2]  # Индекс третьего столбца (нумерация начинается с 0)\n",
        "\n",
        "            # Проверка на совпадение номеров личных дел\n",
        "            if number_id_2 == number_id_1:\n",
        "                # Добавление данных из столбцов 9-17 из первого файла во второй файл\n",
        "                additional_data = row1[10:18].values.tolist()\n",
        "                df2.loc[index2, 'Телефон (смотреть по оргу)'] = additional_data[0]\n",
        "                df2.loc[index2, 'Дата звонков (указывать все)'] = additional_data[1]\n",
        "                df2.loc[index2, 'Кто звонил (не зачеркивать)'] = additional_data[2]\n",
        "                df2.loc[index2, 'Кто постоянно общается'] = additional_data[3]\n",
        "                df2.loc[index2, 'Где держишь связь (если держишь)'] = additional_data[4]\n",
        "                df2.loc[index2, 'Поле под комментарии 1'] = additional_data[5]\n",
        "                df2.loc[index2, 'Поле под комментарии 2'] = additional_data[6]\n",
        "                df2.loc[index2, 'Первое приоритетное направление'] = additional_data[7]\n",
        "\n",
        "    # Сохранение изменений в текущем листе\n",
        "    df2.to_excel(writer, sheet_name=sheet_name, index=False)\n",
        "\n",
        "    # Получение объекта workbook и worksheet\n",
        "    workbook = writer.book\n",
        "    worksheet = writer.sheets[sheet_name]\n",
        "\n",
        "    # Установка автоширины для столбцов 4, 8, 9, 10, 11 и 12\n",
        "    for col_num in [3, 7, 8, 9, 10, 11]:\n",
        "        max_width = max(\n",
        "            df2.iloc[:, col_num].astype(str).map(len).max(),\n",
        "            len(df2.columns[col_num])\n",
        "        )\n",
        "        worksheet.set_column(col_num, col_num, max_width)\n",
        "\n",
        "# Завершение записи и сохранение изменений в новом файле\n",
        "writer.save()"
      ],
      "metadata": {
        "id": "fB3tlZIp-aWn",
        "colab": {
          "base_uri": "https://localhost:8080/"
        },
        "outputId": "fcb488fd-59b9-4070-ea48-376c517f01fc"
      },
      "execution_count": null,
      "outputs": [
        {
          "output_type": "stream",
          "name": "stderr",
          "text": [
            "<ipython-input-3-b0499b4ca13b>:49: FutureWarning: save is not part of the public API, usage can give unexpected results and will be removed in a future version\n",
            "  writer.save()\n"
          ]
        }
      ]
    },
    {
      "cell_type": "code",
      "source": [
        "# Открываем файл Excel\n",
        "file1 = pd.ExcelFile('/Rating_lists_date.xlsx')\n",
        "\n",
        "# Загружаем данные из листа в DataFrame\n",
        "df = file1.parse()\n",
        "\n",
        "# Удаляем строки, где в 6 столбце не стоит \"1\" или в 10 столбце не стоит \"Оригинал\"\n",
        "df = df[(df.iloc[:, 5] == 1) & (df.iloc[:, 9] == \"Оригинал\")]\n",
        "\n",
        "# Удаляем 1, 2, 4, 6, 7, 10 и 13 столбцы\n",
        "columns_to_delete = [0, 1, 3, 5, 6, 9, 12]\n",
        "df = df.drop(df.columns[columns_to_delete], axis=1)\n",
        "\n",
        "# Удаляем строки, где в 1 столбце нет подстроки \"НИЯУ МИФИ\"\n",
        "df = df[df.iloc[:, 0].str.contains(\"НИЯУ МИФИ\", na=False)]\n",
        "\n",
        "# Сортируем данные по 4 столбцу по убыванию\n",
        "df = df.sort_values(by=df.columns[3], ascending=False)\n",
        "\n",
        "# Сравниваем две соседние строки по первому столбцу и удаляем нижнюю, если они совпадают\n",
        "df = df[~df.iloc[:, 0].duplicated(keep='last')]\n",
        "\n",
        "# Создаем новый Excel-файл\n",
        "writer = pd.ExcelWriter('/content/only_first_priorities.xlsx', engine='openpyxl')\n",
        "\n",
        "# Записываем данные в новый файл\n",
        "df.to_excel(writer, index=False)\n",
        "\n",
        "# Завершение записи и сохранение изменений в новом файле\n",
        "writer.save()"
      ],
      "metadata": {
        "colab": {
          "base_uri": "https://localhost:8080/"
        },
        "id": "1I5JzywunBmA",
        "outputId": "79280374-506a-4be6-e4d5-0c5bfbb43054"
      },
      "execution_count": null,
      "outputs": [
        {
          "output_type": "stream",
          "name": "stderr",
          "text": [
            "<ipython-input-12-c3b666d4ccde>:32: FutureWarning: save is not part of the public API, usage can give unexpected results and will be removed in a future version\n",
            "  writer.save()\n"
          ]
        }
      ]
    }
  ],
  "metadata": {
    "colab": {
      "provenance": []
    },
    "kernelspec": {
      "display_name": "Python 3",
      "name": "python3"
    },
    "language_info": {
      "name": "python"
    }
  },
  "nbformat": 4,
  "nbformat_minor": 0
}